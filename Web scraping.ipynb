{
 "cells": [
  {
   "cell_type": "markdown",
   "metadata": {},
   "source": [
    "# Web Scraping with BeautifulSoup"
   ]
  },
  {
   "cell_type": "code",
   "execution_count": 6,
   "metadata": {},
   "outputs": [
    {
     "name": "stdout",
     "output_type": "stream",
     "text": [
      "Requirement already satisfied: BeautifulSoup4 in /anaconda3/lib/python3.6/site-packages (4.6.0)\r\n"
     ]
    }
   ],
   "source": [
    "!pip install BeautifulSoup4"
   ]
  },
  {
   "cell_type": "code",
   "execution_count": 4,
   "metadata": {
    "collapsed": true
   },
   "outputs": [],
   "source": [
    "from bs4 import BeautifulSoup as soup"
   ]
  },
  {
   "cell_type": "code",
   "execution_count": 3,
   "metadata": {
    "collapsed": true
   },
   "outputs": [],
   "source": [
    "from urllib.request import urlopen as uReq"
   ]
  },
  {
   "cell_type": "code",
   "execution_count": 5,
   "metadata": {
    "collapsed": true
   },
   "outputs": [],
   "source": [
    "my_url = 'https://www.newegg.com/Video-Cards-Video-Devices/Category/ID-38?Tpk=graphics%20card'"
   ]
  },
  {
   "cell_type": "code",
   "execution_count": 8,
   "metadata": {
    "collapsed": true
   },
   "outputs": [],
   "source": [
    "# opening the connection, grabbing the page\n",
    "uClient = uReq(my_url)"
   ]
  },
  {
   "cell_type": "code",
   "execution_count": 9,
   "metadata": {
    "collapsed": true
   },
   "outputs": [],
   "source": [
    "# offloads the content into a variable\n",
    "page_html = uClient.read()"
   ]
  },
  {
   "cell_type": "code",
   "execution_count": 10,
   "metadata": {
    "collapsed": true
   },
   "outputs": [],
   "source": [
    "# close the connection\n",
    "uClient.close()"
   ]
  },
  {
   "cell_type": "code",
   "execution_count": 11,
   "metadata": {
    "collapsed": true
   },
   "outputs": [],
   "source": [
    "# need to parse the html using the soup function\n",
    "page_soup = soup(page_html, \"html.parser\")"
   ]
  },
  {
   "cell_type": "code",
   "execution_count": 12,
   "metadata": {},
   "outputs": [
    {
     "data": {
      "text/plain": [
       "<h1 class=\"page-title-text\">Video Cards &amp; Video Devices</h1>"
      ]
     },
     "execution_count": 12,
     "metadata": {},
     "output_type": "execute_result"
    }
   ],
   "source": [
    "# gives the header of the page\n",
    "page_soup.h1"
   ]
  },
  {
   "cell_type": "code",
   "execution_count": 13,
   "metadata": {
    "collapsed": true
   },
   "outputs": [],
   "source": [
    "# grabs each product\n",
    "containers = page_soup.findAll(\"div\",{\"class\":\"item-container\"})"
   ]
  },
  {
   "cell_type": "code",
   "execution_count": 14,
   "metadata": {},
   "outputs": [
    {
     "data": {
      "text/plain": [
       "13"
      ]
     },
     "execution_count": 14,
     "metadata": {},
     "output_type": "execute_result"
    }
   ],
   "source": [
    "len(containers)"
   ]
  },
  {
   "cell_type": "code",
   "execution_count": 15,
   "metadata": {},
   "outputs": [
    {
     "data": {
      "text/plain": [
       "<div class=\"item-container \">\n",
       "<!--product image-->\n",
       "<a class=\"item-img\" href=\"https://www.newegg.com/Product/Product.aspx?Item=N82E16814932055&amp;ignorebbr=1\">\n",
       "<img alt=\"GIGABYTE Radeon RX 580 DirectX 12 GV-RX580IXEB-8GD 8GB 256-Bit GDDR5 ATX Video Card\" class=\" lazy-img\" data-effect=\"fadeIn\" data-src=\"//images10.newegg.com/NeweggImage/ProductImageCompressAll300/14-932-055-Z01.jpg\" src=\"//c1.neweggimages.com/WebResource/Themes/2005/Nest/blank.gif\" title=\"GIGABYTE Radeon RX 580 DirectX 12 GV-RX580IXEB-8GD 8GB 256-Bit GDDR5 ATX Video Card\">\n",
       "</img></a>\n",
       "<div class=\"item-info\">\n",
       "<!--brand info-->\n",
       "<div class=\"item-branding\">\n",
       "<a class=\"item-brand\" href=\"https://www.newegg.com/GIGABYTE/BrandStore/ID-1314\">\n",
       "<img alt=\"GIGABYTE\" class=\" lazy-img\" data-effect=\"fadeIn\" data-src=\"//images10.newegg.com/Brandimage_70x28//Brand1314.gif\" src=\"//c1.neweggimages.com/WebResource/Themes/2005/Nest/blank.gif\" title=\"GIGABYTE\"/>\n",
       "</a>\n",
       "<!--rating info-->\n",
       "</div>\n",
       "<!--description info-->\n",
       "<a class=\"item-title\" href=\"https://www.newegg.com/Product/Product.aspx?Item=N82E16814932055&amp;ignorebbr=1\" title=\"View Details\"><i class=\"icon-premier icon-premier-xsm\"></i>GIGABYTE Radeon RX 580 DirectX 12 GV-RX580IXEB-8GD Video Card</a>\n",
       "<!--promption info-->\n",
       "<p class=\"item-promo\"></p>\n",
       "<!--feature-->\n",
       "<ul class=\"item-features\">\n",
       "</ul>\n",
       "<div class=\"item-action\">\n",
       "<!--price-->\n",
       "<ul class=\"price has-label-membership \">\n",
       "<li class=\"price-was\">\n",
       "</li>\n",
       "<li class=\"price-map\">\n",
       "</li>\n",
       "<li class=\"price-current\">\n",
       "<span class=\"price-current-label\">\n",
       "<a aria-label=\"Premier Price Explaination\" class=\"membership-info membership-popup\" data-neg-popid=\"MembershipPopup\" href=\"javascript:void(0);\" name=\"membership\" style=\"display: inline\"><span class=\"membership-icon\"></span><span style=\"display: none\">|</span></a>\n",
       "</span>$<strong>599</strong><sup>.99</sup> \n",
       "            <span class=\"price-current-range\">\n",
       "<abbr title=\"to\">–</abbr>\n",
       "</span>\n",
       "</li>\n",
       "<li class=\"price-save \">\n",
       "<span class=\"price-save-endtime price-save-endtime-current\"></span>\n",
       "<span class=\"price-save-endtime price-save-endtime-another\" style=\"display:none;\"></span>\n",
       "</li>\n",
       "<li class=\"price-note\">\n",
       "</li>\n",
       "<li class=\"price-ship\">\n",
       "        $4.99 Shipping\n",
       "    </li>\n",
       "</ul>\n",
       "<!--egg point-->\n",
       "<!--financing-->\n",
       "<!--button-->\n",
       "<div class=\"item-operate \">\n",
       "<div class=\"item-button-area\">\n",
       "</div>\n",
       "</div>\n",
       "</div>\n",
       "</div>\n",
       "</div>"
      ]
     },
     "execution_count": 15,
     "metadata": {},
     "output_type": "execute_result"
    }
   ],
   "source": [
    "containers[0]"
   ]
  },
  {
   "cell_type": "code",
   "execution_count": 16,
   "metadata": {
    "collapsed": true
   },
   "outputs": [],
   "source": [
    "container = containers[0]"
   ]
  },
  {
   "cell_type": "code",
   "execution_count": 17,
   "metadata": {},
   "outputs": [
    {
     "data": {
      "text/plain": [
       "<a class=\"item-img\" href=\"https://www.newegg.com/Product/Product.aspx?Item=N82E16814932055&amp;ignorebbr=1\">\n",
       "<img alt=\"GIGABYTE Radeon RX 580 DirectX 12 GV-RX580IXEB-8GD 8GB 256-Bit GDDR5 ATX Video Card\" class=\" lazy-img\" data-effect=\"fadeIn\" data-src=\"//images10.newegg.com/NeweggImage/ProductImageCompressAll300/14-932-055-Z01.jpg\" src=\"//c1.neweggimages.com/WebResource/Themes/2005/Nest/blank.gif\" title=\"GIGABYTE Radeon RX 580 DirectX 12 GV-RX580IXEB-8GD 8GB 256-Bit GDDR5 ATX Video Card\">\n",
       "</img></a>"
      ]
     },
     "execution_count": 17,
     "metadata": {},
     "output_type": "execute_result"
    }
   ],
   "source": [
    "container.a"
   ]
  },
  {
   "cell_type": "code",
   "execution_count": 19,
   "metadata": {},
   "outputs": [
    {
     "data": {
      "text/plain": [
       "<a class=\"item-brand\" href=\"https://www.newegg.com/GIGABYTE/BrandStore/ID-1314\">\n",
       "<img alt=\"GIGABYTE\" class=\" lazy-img\" data-effect=\"fadeIn\" data-src=\"//images10.newegg.com/Brandimage_70x28//Brand1314.gif\" src=\"//c1.neweggimages.com/WebResource/Themes/2005/Nest/blank.gif\" title=\"GIGABYTE\"/>\n",
       "</a>"
      ]
     },
     "execution_count": 19,
     "metadata": {},
     "output_type": "execute_result"
    }
   ],
   "source": [
    "container.div.div.a"
   ]
  },
  {
   "cell_type": "code",
   "execution_count": 20,
   "metadata": {},
   "outputs": [
    {
     "data": {
      "text/plain": [
       "<img alt=\"GIGABYTE\" class=\" lazy-img\" data-effect=\"fadeIn\" data-src=\"//images10.newegg.com/Brandimage_70x28//Brand1314.gif\" src=\"//c1.neweggimages.com/WebResource/Themes/2005/Nest/blank.gif\" title=\"GIGABYTE\"/>"
      ]
     },
     "execution_count": 20,
     "metadata": {},
     "output_type": "execute_result"
    }
   ],
   "source": [
    "container.div.div.a.img"
   ]
  },
  {
   "cell_type": "code",
   "execution_count": 21,
   "metadata": {},
   "outputs": [
    {
     "data": {
      "text/plain": [
       "'GIGABYTE'"
      ]
     },
     "execution_count": 21,
     "metadata": {},
     "output_type": "execute_result"
    }
   ],
   "source": [
    "container.div.div.a.img[\"title\"]"
   ]
  },
  {
   "cell_type": "code",
   "execution_count": 24,
   "metadata": {},
   "outputs": [],
   "source": [
    "title_container = container.findAll(\"a\",{\"class\":\"item-title\"})"
   ]
  },
  {
   "cell_type": "code",
   "execution_count": 25,
   "metadata": {},
   "outputs": [
    {
     "data": {
      "text/plain": [
       "[<a class=\"item-title\" href=\"https://www.newegg.com/Product/Product.aspx?Item=N82E16814932055&amp;ignorebbr=1\" title=\"View Details\"><i class=\"icon-premier icon-premier-xsm\"></i>GIGABYTE Radeon RX 580 DirectX 12 GV-RX580IXEB-8GD Video Card</a>]"
      ]
     },
     "execution_count": 25,
     "metadata": {},
     "output_type": "execute_result"
    }
   ],
   "source": [
    "title_container"
   ]
  },
  {
   "cell_type": "code",
   "execution_count": 26,
   "metadata": {},
   "outputs": [
    {
     "data": {
      "text/plain": [
       "'GIGABYTE Radeon RX 580 DirectX 12 GV-RX580IXEB-8GD Video Card'"
      ]
     },
     "execution_count": 26,
     "metadata": {},
     "output_type": "execute_result"
    }
   ],
   "source": [
    "title_container[0].text"
   ]
  },
  {
   "cell_type": "code",
   "execution_count": 32,
   "metadata": {},
   "outputs": [
    {
     "data": {
      "text/plain": [
       "[<li class=\"price-ship\">\n",
       "         $4.99 Shipping\n",
       "     </li>]"
      ]
     },
     "execution_count": 32,
     "metadata": {},
     "output_type": "execute_result"
    }
   ],
   "source": [
    "container.findAll(\"li\",{\"class\":\"price-ship\"})"
   ]
  },
  {
   "cell_type": "code",
   "execution_count": 33,
   "metadata": {
    "collapsed": true
   },
   "outputs": [],
   "source": [
    "shipping_container = container.findAll(\"li\",{\"class\":\"price-ship\"})"
   ]
  },
  {
   "cell_type": "code",
   "execution_count": 36,
   "metadata": {},
   "outputs": [
    {
     "data": {
      "text/plain": [
       "'$4.99 Shipping'"
      ]
     },
     "execution_count": 36,
     "metadata": {},
     "output_type": "execute_result"
    }
   ],
   "source": [
    "shipping_container[0].text.strip()"
   ]
  },
  {
   "cell_type": "code",
   "execution_count": 38,
   "metadata": {
    "collapsed": true
   },
   "outputs": [],
   "source": [
    "filename = \"products.csv\"\n",
    "f = open(filename, \"w\")"
   ]
  },
  {
   "cell_type": "code",
   "execution_count": 39,
   "metadata": {},
   "outputs": [
    {
     "data": {
      "text/plain": [
       "29"
      ]
     },
     "execution_count": 39,
     "metadata": {},
     "output_type": "execute_result"
    }
   ],
   "source": [
    "headers = \"make, product_name, shipping\\n\"\n",
    "f.write(headers)"
   ]
  },
  {
   "cell_type": "code",
   "execution_count": 40,
   "metadata": {},
   "outputs": [
    {
     "name": "stdout",
     "output_type": "stream",
     "text": [
      "make: GIGABYTE\n",
      "product_name: GIGABYTE Radeon RX 580 DirectX 12 GV-RX580IXEB-8GD Video Card\n",
      "shipping: $4.99 Shipping\n",
      "make: MSI\n",
      "product_name: MSI Radeon RX 570 DirectX 12 RX 570 ARMOR MK2 8G OC Video Card\n",
      "shipping: Free Shipping\n",
      "make: ASUS\n",
      "product_name: ASUS ROG GeForce GTX 1070 Ti STRIX-GTX1070TI-A8G-GAMING Video Card\n",
      "shipping: $4.99 Shipping\n",
      "make: Sapphire Tech\n",
      "product_name: Sapphire Radeon NITRO+ RX 580 8GB GDDR5 PCI-E Dual HDMI / DVI-D / Dual DP w/ Backplate SPECIAL EDITION (UEFI), 100411NT+8GSEL\n",
      "shipping: Free Shipping\n",
      "make: EVGA\n",
      "product_name: EVGA GeForce GTX 1080 FTW GAMING ACX 3.0, 08G-P4-6286-KR, 8GB GDDR5X, RGB LED, 10CM FAN, 10 Power Phases, Double BIOS, DX12 OSD Support (PXOC)\n",
      "shipping: $4.99 Shipping\n",
      "make: GIGABYTE\n",
      "product_name: GIGABYTE GeForce GTX 1080 Ti DirectX 12 GV-N108TGAMINGOC BLACK-11GD Video Card\n",
      "shipping: $4.99 Shipping\n",
      "make: ZOTAC\n",
      "product_name: ZOTAC GeForce GTX 1070 Mini, ZT-P10700G-10M, 8GB GDDR5\n",
      "shipping: $4.99 Shipping\n",
      "make: ASUS\n",
      "product_name: ASUS ROG GeForce GTX 1080 STRIX-GTX1080-A8G-GAMING Video Card\n",
      "shipping: $4.99 Shipping\n",
      "make: MSI\n",
      "product_name: MSI Radeon RX 580 DirectX 12 RX 580 ARMOR MK2 8G OC 8GB 256-Bit GDDR5 PCI Express x16 HDCP Ready CrossFireX Support Video Card\n",
      "shipping: $4.99 Shipping\n",
      "make: GIGABYTE\n",
      "product_name: GIGABYTE GeForce GTX 1060 DirectX 12 GV-N1060WF2OC-3GD Video Card\n",
      "shipping: $4.99 Shipping\n",
      "make: EVGA\n",
      "product_name: EVGA GeForce GTX 1050 Ti SC GAMING, 04G-P4-6253-KR, 4GB GDDR5, DX12 OSD Support (PXOC)\n",
      "shipping: $4.99 Shipping\n",
      "make: ZOTAC\n",
      "product_name: ZOTAC GeForce GTX 1080 AMP! Edition, ZT-P10800C-10P, 8GB GDDR5X IceStorm Cooling, Metal Wraparound Carbon ExoArmor Exterior, Ultra-wide 100mm Fans, Spectra Lighting, PowerBoost, FREEZE Fan Stop\n",
      "shipping: $4.99 Shipping\n",
      "make: Sapphire Tech\n",
      "product_name: Sapphire Radeon PULSE RX 570 8GB GDDR5 PCI-E Dual HDMI / DVI-D / Dual DP OC w/ Backplate (UEFI)\n",
      "shipping: $4.99 Shipping\n"
     ]
    }
   ],
   "source": [
    "for container in containers:\n",
    "    make = container.div.div.a.img[\"title\"]\n",
    "    \n",
    "    title_container = container.findAll(\"a\",{\"class\":\"item-title\"})\n",
    "    product_name = title_container[0].text\n",
    "    \n",
    "    shipping_container = container.findAll(\"li\",{\"class\":\"price-ship\"})\n",
    "    shipping = shipping_container[0].text.strip()\n",
    "    \n",
    "    print(\"make: \"+ make)\n",
    "    print(\"product_name: \"+ product_name)\n",
    "    print(\"shipping: \"+ shipping)\n",
    "    \n",
    "    f.write(make + \",\" + product_name.replace(\",\", \"|\") +\",\" +shipping + \"\\n\")\n",
    "    \n",
    "f.close()"
   ]
  }
 ],
 "metadata": {
  "kernelspec": {
   "display_name": "Python 3",
   "language": "python",
   "name": "python3"
  },
  "language_info": {
   "codemirror_mode": {
    "name": "ipython",
    "version": 3
   },
   "file_extension": ".py",
   "mimetype": "text/x-python",
   "name": "python",
   "nbconvert_exporter": "python",
   "pygments_lexer": "ipython3",
   "version": "3.6.3"
  }
 },
 "nbformat": 4,
 "nbformat_minor": 2
}
